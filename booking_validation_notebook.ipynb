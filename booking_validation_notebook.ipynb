{
 "cells": [
  {
   "cell_type": "markdown",
   "metadata": {},
   "source": [
    "# Booking Validation Problem"
   ]
  },
  {
   "cell_type": "markdown",
   "metadata": {},
   "source": [
    "This module contains methods to take in a sequence of bookings for a single car and outputs a single permutation of the input that minimises the total number of relocations within the sequence.\n",
    "\n",
    "Given an input JSON file containing the booking sequence:\n",
    "```\n",
    "[\n",
    "    { \"id\": 1, \"start\": 23, \"end\": 42 },\n",
    "\n",
    "    { \"id\": 2, \"start\": 77, \"end\": 45},\n",
    "\n",
    "    { \"id\": 3, \"start\": 42, \"end\": 77 },\n",
    "\n",
    "    . . .\n",
    "    ]\n",
    "```\n",
    "\n",
    "The expected output is a JSON file consisting of an array of booking IDs of the reordered sequence:\n",
    "```\n",
    "[1, 3, 2]\n",
    "```"
   ]
  },
  {
   "cell_type": "markdown",
   "metadata": {},
   "source": [
    "### Imports"
   ]
  },
  {
   "cell_type": "code",
   "execution_count": 1,
   "metadata": {
    "collapsed": true
   },
   "outputs": [],
   "source": [
    "import json\n",
    "import random\n",
    "from collections import deque"
   ]
  },
  {
   "cell_type": "markdown",
   "metadata": {},
   "source": [
    "### Utility Functions"
   ]
  },
  {
   "cell_type": "code",
   "execution_count": 2,
   "metadata": {
    "collapsed": true
   },
   "outputs": [],
   "source": [
    "def get_list(file):\n",
    "    \"\"\"\n",
    "    This function takes in a json file and deserialises to a Python list\n",
    "    \n",
    "    :param file: input file\n",
    "    :type json: JSON file\n",
    "    :return: returns a Python list\n",
    "    :rtype: list\n",
    "    \"\"\"\n",
    "    with open(file) as f:\n",
    "        d = json.load(f)\n",
    "        return d"
   ]
  },
  {
   "cell_type": "code",
   "execution_count": 3,
   "metadata": {
    "collapsed": true
   },
   "outputs": [],
   "source": [
    "def reorder_sequence(sequence, method, **kwargs):\n",
    "    \"\"\"\n",
    "    This function takes in a list and reorders it using one of the available methods\n",
    "    \n",
    "    :param sequence: input booking sequence\n",
    "    :type list: list containing the booking sequence\n",
    "    :param method: method for sorting a list\n",
    "    :type function: sorting function\n",
    "    :param kwargs: arguments for the sorting function\n",
    "    :return: returns a function with the supplied arguments\n",
    "    :rtype: function\n",
    "    \"\"\"\n",
    "    return method(sequence, kwargs)"
   ]
  },
  {
   "cell_type": "code",
   "execution_count": 4,
   "metadata": {
    "collapsed": true
   },
   "outputs": [],
   "source": [
    "def recursive_sort(sequence, kwargs):\n",
    "    \"\"\"\n",
    "    Method for recursively sorting a booking sequence. Assumes that time of booking and distance between \n",
    "    locations do not matter. Inspired by the blockchain, start with a single record and then maintain a \n",
    "    continuously-growing list of ordered records. For each iteration, a forward pass appends a match to the\n",
    "    block and a backward pass prepends a match to the end of the block.\n",
    "    \n",
    "    Forward pass:\n",
    "    1. Cache the start and end location of the block\n",
    "    2. Check the remaining bookings for a start location that matches the block's end location.\n",
    "    3. If present, add this booking to end of the block and go to step 1.\n",
    "    \n",
    "    Backward pass:\n",
    "    1. Cache the start and end location of the block\n",
    "    2. Check the remaning bookings for an end location that matches the block's start location.\n",
    "    3. If present, add this booking to the start of thr block and go to step 1.\n",
    "    \n",
    "    :param sequence: input booking sequence\n",
    "    :type list: list containing the booking sequence\n",
    "    :param iterations: number of iterations to run recursive sort. trade off runtime for accuracy.\n",
    "    :type integer: number of iterations\n",
    "    :return: returns a Python list containing the best sorted sequence\n",
    "    :rtype: list\n",
    "    \"\"\"\n",
    "    iterations = kwargs['iterations']  # unpack argument list\n",
    "    relocations = len(sequence) + 1  # arbitrary no. gt number of bookings in sequence\n",
    "    best_sequence = []\n",
    "    \n",
    "    for iteration in range(0, iterations):\n",
    "        bookings = deque(sequence)  # use deque for performance boost\n",
    "        first_booking = random.choice(bookings)\n",
    "        block = deque([first_booking])\n",
    "        if first_booking in bookings:\n",
    "            bookings.remove(first_booking)\n",
    "\n",
    "        for j in range(0, len(bookings)):\n",
    "            # do forward pass\n",
    "            try:\n",
    "                match_forward = forward_pass(block, bookings)\n",
    "                choice = random.choice(match_forward)  # note: returns the index of the match, not the bookings\n",
    "                block.append(bookings[match_forward[choice]])  # append a random match\n",
    "                del bookings[match_forward[choice]]  # remove match from remaining bookings\n",
    "            except:\n",
    "                pass\n",
    "\n",
    "            # do backward pass\n",
    "            try:\n",
    "                match_backward = backward_pass(block, bookings)\n",
    "                choice = random.choice(match_backward)  # note: returns the index of the match, not the bookings\n",
    "                block.appendleft(bookings[match_backward[choice]])  # prepend a random match\n",
    "                del bookings[match_backward[choice]]  # remove match from remaining bookings\n",
    "            except:\n",
    "                pass\n",
    "\n",
    "        if len([item['id'] for item in bookings]) < relocations:\n",
    "            remainder = [item['id'] for item in bookings]\n",
    "            relocations = len(remainder)\n",
    "            best_sequence = [index['id'] for index in block]\n",
    "    \n",
    "    best_sequence.extend(remainder)  # just append the remainder\n",
    "    print(\"Best Sequence: {}, Relocations: {}, Remainder: {}\".format(best_sequence, relocations, remainder))\n",
    "    \n",
    "    return best_sequence"
   ]
  },
  {
   "cell_type": "code",
   "execution_count": 5,
   "metadata": {
    "collapsed": false
   },
   "outputs": [],
   "source": [
    "def forward_pass(block, remaining_bookings):\n",
    "    \"\"\"\n",
    "    This function performs the forward pass\n",
    "    \n",
    "    :param block: current block of ordered bookings\n",
    "    :type deque: collections.deque\n",
    "    :param remaining_bookings: bookings that have yet to be sorted\n",
    "    :type deque: collections.deque\n",
    "    :return: returns the indices of the matched bookings\n",
    "    :rtype: list\n",
    "    \"\"\"\n",
    "    match = []\n",
    "    for index, item in enumerate(remaining_bookings):\n",
    "        if item['start'] == block[-1]['end']:\n",
    "            match.append(index)\n",
    "    return match"
   ]
  },
  {
   "cell_type": "code",
   "execution_count": 6,
   "metadata": {
    "collapsed": true
   },
   "outputs": [],
   "source": [
    "def backward_pass(block, remaining_bookings):\n",
    "    \"\"\"\n",
    "    This function performs the backward pass\n",
    "    \n",
    "    :param block: current block of ordered bookings\n",
    "    :type deque: collections.deque\n",
    "    :param remaining_bookings: bookings that have yet to be sorted\n",
    "    :type deque: collections.deque\n",
    "    :return: returns the indices of the matched bookings\n",
    "    :rtype: list\n",
    "    \"\"\"\n",
    "    match = []\n",
    "    for index, item in enumerate(remaining_bookings):\n",
    "        if item['end'] == block[0]['start']:\n",
    "            match.append(index)\n",
    "    return match"
   ]
  },
  {
   "cell_type": "code",
   "execution_count": 7,
   "metadata": {
    "collapsed": true
   },
   "outputs": [],
   "source": [
    "def export_list(sequence, outfile):\n",
    "    \"\"\"\n",
    "    This function serialises a Python list to JSON\n",
    "    \n",
    "    :param sequence: list to be exported\n",
    "    :type list: Python list\n",
    "    :param outfile: output file name\n",
    "    :type json: json file\n",
    "    \"\"\"\n",
    "    with open(outfile, 'w') as f:\n",
    "        json.dump(sequence, f)"
   ]
  },
  {
   "cell_type": "markdown",
   "metadata": {},
   "source": [
    "### Load JSON"
   ]
  },
  {
   "cell_type": "code",
   "execution_count": 8,
   "metadata": {
    "collapsed": false
   },
   "outputs": [
    {
     "name": "stdout",
     "output_type": "stream",
     "text": [
      "[{'id': 1, 'start': 3, 'end': 1}, {'id': 2, 'start': 1, 'end': 3}, {'id': 3, 'start': 3, 'end': 1}, {'id': 4, 'start': 2, 'end': 2}, {'id': 5, 'start': 3, 'end': 1}, {'id': 6, 'start': 2, 'end': 3}, {'id': 7, 'start': 1, 'end': 3}, {'id': 8, 'start': 1, 'end': 1}, {'id': 9, 'start': 3, 'end': 3}, {'id': 10, 'start': 3, 'end': 2}, {'id': 11, 'start': 3, 'end': 3}, {'id': 12, 'start': 3, 'end': 2}, {'id': 13, 'start': 1, 'end': 1}, {'id': 14, 'start': 1, 'end': 3}, {'id': 15, 'start': 3, 'end': 2}, {'id': 16, 'start': 3, 'end': 2}, {'id': 17, 'start': 1, 'end': 3}, {'id': 18, 'start': 3, 'end': 3}]\n"
     ]
    }
   ],
   "source": [
    "bookings = get_list('./tests/bookingvalidation.json')\n",
    "print(bookings)"
   ]
  },
  {
   "cell_type": "markdown",
   "metadata": {},
   "source": [
    "### Test Recursive Sort"
   ]
  },
  {
   "cell_type": "code",
   "execution_count": 9,
   "metadata": {
    "collapsed": false
   },
   "outputs": [
    {
     "name": "stdout",
     "output_type": "stream",
     "text": [
      "Best Sequence: [7, 9, 3, 2, 15, 6, 11, 5, 14, 1, 13, 8, 17, 18, 16, 4, 10, 12], Relocations: 2, Remainder: [10, 12]\n",
      "[7, 9, 3, 2, 15, 6, 11, 5, 14, 1, 13, 8, 17, 18, 16, 4, 10, 12]\n",
      "Wall time: 71.3 ms\n"
     ]
    }
   ],
   "source": [
    "%%time\n",
    "validated_bookings = reorder_sequence(sequence = bookings, method = recursive_sort, iterations = 500)\n",
    "print(validated_bookings)"
   ]
  },
  {
   "cell_type": "markdown",
   "metadata": {},
   "source": [
    "### Export as JSON"
   ]
  },
  {
   "cell_type": "code",
   "execution_count": 10,
   "metadata": {
    "collapsed": false
   },
   "outputs": [],
   "source": [
    "export_list(validated_bookings, 'output.json')"
   ]
  }
 ],
 "metadata": {
  "kernelspec": {
   "display_name": "Python 3",
   "language": "python",
   "name": "python3"
  },
  "language_info": {
   "codemirror_mode": {
    "name": "ipython",
    "version": 3
   },
   "file_extension": ".py",
   "mimetype": "text/x-python",
   "name": "python",
   "nbconvert_exporter": "python",
   "pygments_lexer": "ipython3",
   "version": "3.4.4"
  }
 },
 "nbformat": 4,
 "nbformat_minor": 0
}
